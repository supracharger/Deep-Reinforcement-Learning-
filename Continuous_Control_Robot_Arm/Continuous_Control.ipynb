{
 "cells": [
  {
   "cell_type": "markdown",
   "metadata": {},
   "source": [
    "# Continuous Control\n",
    "\n",
    "---\n",
    "\n",
    "In this notebook, you will learn how to use the Unity ML-Agents environment for the second project of the [Deep Reinforcement Learning Nanodegree](https://www.udacity.com/course/deep-reinforcement-learning-nanodegree--nd893) program.\n",
    "\n",
    "### 1. Start the Environment\n",
    "\n",
    "We begin by importing the necessary packages.  If the code cell below returns an error, please revisit the project instructions to double-check that you have installed [Unity ML-Agents](https://github.com/Unity-Technologies/ml-agents/blob/master/docs/Installation.md) and [NumPy](http://www.numpy.org/)."
   ]
  },
  {
   "cell_type": "code",
   "execution_count": 1,
   "metadata": {
    "collapsed": true
   },
   "outputs": [],
   "source": [
    "from unityagents import UnityEnvironment\n",
    "import numpy as np"
   ]
  },
  {
   "cell_type": "markdown",
   "metadata": {},
   "source": [
    "Next, we will start the environment!  **_Before running the code cell below_**, change the `file_name` parameter to match the location of the Unity environment that you downloaded.\n",
    "\n",
    "- **Mac**: `\"path/to/Reacher.app\"`\n",
    "- **Windows** (x86): `\"path/to/Reacher_Windows_x86/Reacher.exe\"`\n",
    "- **Windows** (x86_64): `\"path/to/Reacher_Windows_x86_64/Reacher.exe\"`\n",
    "- **Linux** (x86): `\"path/to/Reacher_Linux/Reacher.x86\"`\n",
    "- **Linux** (x86_64): `\"path/to/Reacher_Linux/Reacher.x86_64\"`\n",
    "- **Linux** (x86, headless): `\"path/to/Reacher_Linux_NoVis/Reacher.x86\"`\n",
    "- **Linux** (x86_64, headless): `\"path/to/Reacher_Linux_NoVis/Reacher.x86_64\"`\n",
    "\n",
    "For instance, if you are using a Mac, then you downloaded `Reacher.app`.  If this file is in the same folder as the notebook, then the line below should appear as follows:\n",
    "```\n",
    "env = UnityEnvironment(file_name=\"Reacher.app\")\n",
    "```"
   ]
  },
  {
   "cell_type": "code",
   "execution_count": 2,
   "metadata": {},
   "outputs": [
    {
     "name": "stderr",
     "output_type": "stream",
     "text": [
      "INFO:unityagents:\n",
      "'Academy' started successfully!\n",
      "Unity Academy name: Academy\n",
      "        Number of Brains: 1\n",
      "        Number of External Brains : 1\n",
      "        Lesson number : 0\n",
      "        Reset Parameters :\n",
      "\t\tgoal_speed -> 1.0\n",
      "\t\tgoal_size -> 5.0\n",
      "Unity brain name: ReacherBrain\n",
      "        Number of Visual Observations (per agent): 0\n",
      "        Vector Observation space type: continuous\n",
      "        Vector Observation space size (per agent): 33\n",
      "        Number of stacked Vector Observation: 1\n",
      "        Vector Action space type: continuous\n",
      "        Vector Action space size (per agent): 4\n",
      "        Vector Action descriptions: , , , \n"
     ]
    }
   ],
   "source": [
    "env = UnityEnvironment(file_name='Reacher_Windows_x86_64/Reacher.exe')"
   ]
  },
  {
   "cell_type": "markdown",
   "metadata": {},
   "source": [
    "Environments contain **_brains_** which are responsible for deciding the actions of their associated agents. Here we check for the first brain available, and set it as the default brain we will be controlling from Python."
   ]
  },
  {
   "cell_type": "code",
   "execution_count": 3,
   "metadata": {
    "collapsed": true
   },
   "outputs": [],
   "source": [
    "# get the default brain\n",
    "brain_name = env.brain_names[0]\n",
    "brain = env.brains[brain_name]"
   ]
  },
  {
   "cell_type": "markdown",
   "metadata": {},
   "source": [
    "### 2. Examine the State and Action Spaces\n",
    "\n",
    "In this environment, a double-jointed arm can move to target locations. A reward of `+0.1` is provided for each step that the agent's hand is in the goal location. Thus, the goal of your agent is to maintain its position at the target location for as many time steps as possible.\n",
    "\n",
    "The observation space consists of `33` variables corresponding to position, rotation, velocity, and angular velocities of the arm.  Each action is a vector with four numbers, corresponding to torque applicable to two joints.  Every entry in the action vector must be a number between `-1` and `1`.\n",
    "\n",
    "Run the code cell below to print some information about the environment."
   ]
  },
  {
   "cell_type": "code",
   "execution_count": 4,
   "metadata": {},
   "outputs": [
    {
     "name": "stdout",
     "output_type": "stream",
     "text": [
      "Number of agents: 20\n",
      "Size of each action: 4\n",
      "There are 20 agents. Each observes a state with length: 33\n",
      "The state for the first agent looks like: [ 0.00000000e+00 -4.00000000e+00  0.00000000e+00  1.00000000e+00\n",
      " -0.00000000e+00 -0.00000000e+00 -4.37113883e-08  0.00000000e+00\n",
      "  0.00000000e+00  0.00000000e+00  0.00000000e+00  0.00000000e+00\n",
      "  0.00000000e+00  0.00000000e+00 -1.00000000e+01  0.00000000e+00\n",
      "  1.00000000e+00 -0.00000000e+00 -0.00000000e+00 -4.37113883e-08\n",
      "  0.00000000e+00  0.00000000e+00  0.00000000e+00  0.00000000e+00\n",
      "  0.00000000e+00  0.00000000e+00  5.75471878e+00 -1.00000000e+00\n",
      "  5.55726624e+00  0.00000000e+00  1.00000000e+00  0.00000000e+00\n",
      " -1.68164849e-01]\n"
     ]
    }
   ],
   "source": [
    "# reset the environment\n",
    "env_info = env.reset(train_mode=True)[brain_name]\n",
    "\n",
    "# number of agents\n",
    "num_agents = len(env_info.agents)\n",
    "print('Number of agents:', num_agents)\n",
    "\n",
    "# size of each action\n",
    "action_size = brain.vector_action_space_size\n",
    "print('Size of each action:', action_size)\n",
    "\n",
    "# examine the state space \n",
    "states = env_info.vector_observations\n",
    "state_size = states.shape[1]\n",
    "print('There are {} agents. Each observes a state with length: {}'.format(states.shape[0], state_size))\n",
    "print('The state for the first agent looks like:', states[0])"
   ]
  },
  {
   "cell_type": "markdown",
   "metadata": {},
   "source": [
    "### 3. Take Random Actions in the Environment\n",
    "\n",
    "In the next code cell, you will learn how to use the Python API to control the agent and receive feedback from the environment.\n",
    "\n",
    "Once this cell is executed, you will watch the agent's performance, if it selects an action at random with each time step.  A window should pop up that allows you to observe the agent, as it moves through the environment.  \n",
    "\n",
    "Of course, as part of the project, you'll have to change the code so that the agent is able to use its experience to gradually choose better actions when interacting with the environment!"
   ]
  },
  {
   "cell_type": "code",
   "execution_count": 5,
   "metadata": {},
   "outputs": [
    {
     "name": "stdout",
     "output_type": "stream",
     "text": [
      "Total score (averaged over agents) this episode: 0.13299999702721835\n"
     ]
    }
   ],
   "source": [
    "env_info = env.reset(train_mode=False)[brain_name]     # reset the environment    \n",
    "states = env_info.vector_observations                  # get the current state (for each agent)\n",
    "scores = np.zeros(num_agents)                          # initialize the score (for each agent)\n",
    "while True:\n",
    "    actions = np.random.randn(num_agents, action_size) # select an action (for each agent)\n",
    "    actions = np.clip(actions, -1, 1)                  # all actions between -1 and 1\n",
    "    env_info = env.step(actions)[brain_name]           # send all actions to tne environment\n",
    "    next_states = env_info.vector_observations         # get next state (for each agent)\n",
    "    rewards = env_info.rewards                         # get reward (for each agent)\n",
    "    dones = env_info.local_done                        # see if episode finished\n",
    "    scores += env_info.rewards                         # update the score (for each agent)\n",
    "    states = next_states                               # roll over states to next time step\n",
    "    if np.any(dones):                                  # exit loop if episode finished\n",
    "        break\n",
    "print('Total score (averaged over agents) this episode: {}'.format(np.mean(scores)))"
   ]
  },
  {
   "cell_type": "markdown",
   "metadata": {},
   "source": [
    "When finished, you can close the environment."
   ]
  },
  {
   "cell_type": "code",
   "execution_count": 6,
   "metadata": {
    "collapsed": true
   },
   "outputs": [],
   "source": [
    "env.close()"
   ]
  },
  {
   "cell_type": "markdown",
   "metadata": {},
   "source": [
    "### 4. It's Your Turn!\n",
    "\n",
    "Now it's your turn to train your own agent to solve the environment!  When training the environment, set `train_mode=True`, so that the line for resetting the environment looks like the following:\n",
    "```python\n",
    "env_info = env.reset(train_mode=True)[brain_name]\n",
    "```"
   ]
  },
  {
   "cell_type": "code",
   "execution_count": 7,
   "metadata": {},
   "outputs": [
    {
     "name": "stdout",
     "output_type": "stream",
     "text": [
      "\n",
      "BUFFER_SIZE 500000 \n",
      "BATCH_SIZE 256 \n",
      "GAMMA 0.99 \n",
      "TAU 0.001 \n",
      "LR_ACTOR 0.0001 \n",
      "LR_CRITIC 0.001\n",
      "\n",
      "ACTOR[i]:\n",
      " Actor(\n",
      "  (fc1): Linear(in_features=33, out_features=400, bias=True)\n",
      "  (fc2): Linear(in_features=400, out_features=300, bias=True)\n",
      "  (fc3): Linear(in_features=300, out_features=4, bias=True)\n",
      ")\n",
      "CRITIC:\n",
      " Critic(\n",
      "  (fcs1): Linear(in_features=33, out_features=400, bias=True)\n",
      "  (fc2): Linear(in_features=404, out_features=300, bias=True)\n",
      "  (fc3): Linear(in_features=300, out_features=1, bias=True)\n",
      ")\n"
     ]
    }
   ],
   "source": [
    "# Bigger Buffer Stabilizes Training\n",
    "\n",
    "from Agent import Agent\n",
    "from OUNoise import OUNoise\n",
    "import random\n",
    "\n",
    "# Epsilon\n",
    "eps_start, eps_decay = 1.0, 0.986       # Epsilon\n",
    "limit = 20                              # Limit Number of Agents from Enviroment\n",
    "# Agent & Noise\n",
    "noise = None                                  # OUNoise\n",
    "agent = Agent(limit, noise, random_seed=2)    # Agent that acts in Enviroment"
   ]
  },
  {
   "cell_type": "code",
   "execution_count": 8,
   "metadata": {
    "scrolled": false
   },
   "outputs": [
    {
     "name": "stderr",
     "output_type": "stream",
     "text": [
      "C:\\ProgramData\\Anaconda3\\lib\\site-packages\\torch\\nn\\functional.py:995: UserWarning: nn.functional.tanh is deprecated. Use torch.tanh instead.\n",
      "  warnings.warn(\"nn.functional.tanh is deprecated. Use torch.tanh instead.\")\n",
      "C:\\Users\\Andrews X6i7\\OneDrive\\Udacity Deep RL\\p2_continuous-control\\Agent.py:103: UserWarning: torch.nn.utils.clip_grad_norm is now deprecated in favor of torch.nn.utils.clip_grad_norm_.\n",
      "  T.nn.utils.clip_grad_norm(self.Critic.parameters(), 1)\n",
      "C:\\Users\\Andrews X6i7\\OneDrive\\Udacity Deep RL\\p2_continuous-control\\Agent.py:110: UserWarning: torch.nn.utils.clip_grad_norm is now deprecated in favor of torch.nn.utils.clip_grad_norm_.\n",
      "  T.nn.utils.clip_grad_norm(Actor.parameters(), 1)\n"
     ]
    },
    {
     "name": "stdout",
     "output_type": "stream",
     "text": [
      "Episode: 10 Score: 0.50 Current: 0.80 \n",
      "Episode: 20 Score: 0.97 Current: 2.06 \n",
      "Episode: 30 Score: 1.52 Current: 2.39 \n",
      "Episode: 40 Score: 2.57 Current: 6.19 \n",
      "Episode: 50 Score: 3.63 Current: 8.34 \n",
      "Episode: 60 Score: 4.38 Current: 11.74 \n",
      "Episode: 70 Score: 5.38 Current: 11.24 \n",
      "Episode: 80 Score: 6.11 Current: 10.59 \n",
      "Episode: 90 Score: 6.66 Current: 10.32 \n",
      "Episode: 100 Score: 7.18 Current: 14.16 \n",
      "Episode: 110 Score: 8.34 Current: 11.07 \n",
      "Episode: 120 Score: 9.45 Current: 11.82 \n",
      "Episode: 130 Score: 10.31 Current: 11.69 \n",
      "Episode: 140 Score: 10.91 Current: 12.94 \n",
      "Episode: 150 Score: 11.54 Current: 16.54 \n",
      "Episode: 160 Score: 12.08 Current: 14.29 \n",
      "Episode: 170 Score: 12.21 Current: 13.68 \n",
      "Episode: 180 Score: 12.48 Current: 15.42 \n",
      "Episode: 190 Score: 12.93 Current: 13.74 \n",
      "Episode: 200 Score: 13.41 Current: 18.00 \n",
      "Episode: 210 Score: 13.81 Current: 16.94 \n",
      "Episode: 220 Score: 14.21 Current: 16.43 \n",
      "Episode: 230 Score: 14.60 Current: 13.59 \n",
      "Episode: 240 Score: 15.03 Current: 13.62 \n",
      "Episode: 250 Score: 15.42 Current: 13.92 \n",
      "Episode: 260 Score: 15.78 Current: 15.69 \n",
      "Episode: 270 Score: 16.07 Current: 13.32 \n",
      "Episode: 280 Score: 16.14 Current: 16.72 \n",
      "Episode: 290 Score: 16.19 Current: 14.02 \n",
      "Episode: 300 Score: 15.98 Current: 14.13 \n",
      "Episode: 310 Score: 15.44 Current: 10.95 \n",
      "Episode: 320 Score: 15.26 Current: 14.94 \n",
      "Episode: 330 Score: 15.72 Current: 18.15 \n",
      "Episode: 340 Score: 15.74 Current: 17.36 \n",
      "Episode: 350 Score: 15.41 Current: 15.92 \n",
      "Episode: 360 Score: 15.30 Current: 18.11 \n",
      "Episode: 370 Score: 15.37 Current: 14.21 \n",
      "Episode: 380 Score: 16.05 Current: 17.90 \n",
      "Episode: 390 Score: 16.61 Current: 18.36 \n",
      "Episode: 400 Score: 17.51 Current: 26.56 \n",
      "Episode: 410 Score: 18.98 Current: 25.46 \n",
      "Episode: 420 Score: 19.69 Current: 22.66 \n",
      "Episode: 430 Score: 20.45 Current: 29.51 \n",
      "Episode: 440 Score: 21.85 Current: 30.61 \n",
      "Episode: 450 Score: 23.13 Current: 28.78 \n",
      "Episode: 460 Score: 24.28 Current: 25.86 \n",
      "Episode: 470 Score: 25.58 Current: 27.52 \n",
      "Episode: 480 Score: 25.73 Current: 24.14 \n",
      "Episode: 490 Score: 25.72 Current: 28.59 \n",
      "Episode: 500 Score: 26.17 Current: 30.16 \n",
      "Episode: 510 Score: 26.26 Current: 24.43 \n",
      "Episode: 520 Score: 27.12 Current: 33.95 \n",
      "Episode: 530 Score: 27.75 Current: 36.50 \n",
      "Episode: 540 Score: 27.88 Current: 24.16 \n",
      "Episode: 550 Score: 27.75 Current: 26.97 \n",
      "Episode: 560 Score: 27.98 Current: 31.77 \n",
      "Episode: 570 Score: 28.00 Current: 28.07 \n",
      "Episode: 580 Score: 28.40 Current: 25.32 \n",
      "Episode: 590 Score: 28.88 Current: 30.99 \n",
      "Episode: 600 Score: 29.20 Current: 32.01 \n",
      "Episode: 610 Score: 29.67 Current: 30.24 \n",
      "Episode: 620 Score: 29.54 Current: 27.00 \n",
      "Episode: 630 Score: 29.48 Current: 34.08 \n",
      "Episode: 640 Score: 29.52 Current: 28.13 \n",
      "Episode: 650 Score: 29.40 Current: 23.88 \n",
      "Episode: 660 Score: 29.44 Current: 32.06 \n",
      "Episode: 670 Score: 29.42 Current: 23.46 \n",
      "Episode: 680 Score: 29.15 Current: 22.84 \n",
      "Episode: 690 Score: 28.95 Current: 22.57 \n",
      "Episode: 700 Score: 28.08 Current: 24.79 \n",
      "Episode: 710 Score: 28.22 Current: 31.71 \n",
      "Episode: 720 Score: 28.25 Current: 23.85 \n",
      "Episode: 730 Score: 27.81 Current: 22.94 \n",
      "Episode: 740 Score: 27.66 Current: 35.11 \n",
      "Episode: 750 Score: 28.45 Current: 32.43 \n",
      "Episode: 760 Score: 28.44 Current: 27.34 \n",
      "Episode: 770 Score: 28.03 Current: 27.85 \n",
      "Episode: 780 Score: 28.64 Current: 28.62 \n",
      "Episode: 790 Score: 28.89 Current: 29.46 \n",
      "Episode: 800 Score: 29.77 Current: 35.37 \n",
      "Episode: 810 Score: 29.80 Current: 29.16 \n",
      "Episode: 820 Score: 29.97 Current: 28.24 \n",
      "Episode: 830 Score: 29.99 Current: 34.82 \n",
      "Episode: 840 Score: 29.69 Current: 30.74 \n",
      "Episode: 850 Score: 29.05 Current: 27.28 \n",
      "Episode: 860 Score: 28.88 Current: 25.16 \n",
      "Episode: 870 Score: 29.40 Current: 30.86 \n",
      "Episode: 880 Score: 29.16 Current: 21.75 \n",
      "Episode: 890 Score: 28.15 Current: 21.63 \n",
      "Episode: 900 Score: 27.69 Current: 35.81 \n",
      "Episode: 910 Score: 27.95 Current: 38.28 \n",
      "Episode: 920 Score: 28.24 Current: 28.80 \n",
      "Episode: 930 Score: 28.00 Current: 20.28 \n",
      "Episode: 940 Score: 28.31 Current: 29.25 \n",
      "Episode: 950 Score: 28.40 Current: 29.81 \n",
      "Episode: 960 Score: 28.28 Current: 26.70 \n",
      "Episode: 970 Score: 28.15 Current: 32.20 \n",
      "Episode: 980 Score: 28.92 Current: 35.76 \n",
      "Episode: 990 Score: 30.28 Current: 24.80 \n",
      "Episode: 1000 Score: 30.83 Current: 28.29 \n"
     ]
    }
   ],
   "source": [
    "import torch as T\n",
    "from collections import deque\n",
    "\n",
    "best = 5                                  # Best Score\n",
    "saveScore = 5                             # To Save best model\n",
    "eps = eps_start                           # Epsilon\n",
    "lastScores = deque(maxlen=100)            # Running Average of Scores\n",
    "allScores = []                            # Holds Running ScoreAvg for all episodes\n",
    "finishCtr = 0\n",
    "# Loop Episodes/ Trajectories\n",
    "for e in range(1000):  \n",
    "    env_info = env.reset(train_mode=True)[brain_name]      # reset the environment    \n",
    "    states = env_info.vector_observations                  # get the current state (for each agent)\n",
    "    scores = np.zeros(num_agents)                          # initialize the score (for each agent)\n",
    "    while True:\n",
    "        actions = agent.Action(states, eps=0, isRandom=eps>random.random()) # Get Agent Actions from each Agent\n",
    "        actions = np.clip(actions, -1, 1)                  # all actions between -1 and 1\n",
    "        env_info = env.step(actions)[brain_name]           # send all actions to tne environment\n",
    "        next_states = env_info.vector_observations         # get next state (for each agent)\n",
    "        rewards = np.array(env_info.rewards)               # get reward (for each agent)\n",
    "        dones = env_info.local_done                        # see if episode finished\n",
    "        agent.Step(states, actions, rewards, next_states, dones, limit) # Save Agents Timesteps to Buffer\n",
    "        scores += env_info.rewards                         # update the score (for each agent)\n",
    "        states = next_states                               # roll over states to next time step\n",
    "        if np.any(dones[:limit]):                          # exit loop if episode finished\n",
    "            break\n",
    "    agent._Train(limit)                                    # Train the Agent & Update the Model Weights\n",
    "    scores = np.mean(scores)                               # Mean the Score across all Agents\n",
    "    lastScores.append(scores)                              # Add Average score to arrays\n",
    "    scr = np.average(lastScores)                           # Mean over 100 Episodes over the mean of all the Agents\n",
    "    allScores.append(scr)\n",
    "    if e>100: eps = max(eps*eps_decay, 0.01)               # Epsilon Decay\n",
    "    # Best Score: Save Actor & Critic Models\n",
    "    if scores>best:  \n",
    "        best = scores\n",
    "        T.save(agent.Actor[0].state_dict(), 'Actor.pt')\n",
    "        T.save(agent.Critic.state_dict(), 'Critic.pt')\n",
    "    # Display Metrics to User\n",
    "    print(\"\\rEpisode: {} Score: {:.2f} Current: {:.2f} \".format(e+1, scr, scores), end='')\n",
    "    if (e+1) % 10 == 0: print(\"\\rEpisode: {} Score: {:.2f} Current: {:.2f} \".format(e+1, scr, scores))\n",
    "    # Finished if score is +30\n",
    "    if scr>30:\n",
    "        finishCtr += 1\n",
    "        if finishCtr==20:\n",
    "            print(\"\\n=== FINISHED: Episode: {} Score: {:.2f} \".format(e+1, scr))\n",
    "            break"
   ]
  },
  {
   "cell_type": "code",
   "execution_count": 9,
   "metadata": {},
   "outputs": [
    {
     "name": "stdout",
     "output_type": "stream",
     "text": [
      "Max Average Score: 30.98083430752438\n"
     ]
    },
    {
     "data": {
      "image/png": "[encoded data removed]",
      "text/plain": [
       "<Figure size 432x288 with 1 Axes>"
      ]
     },
     "metadata": {},
     "output_type": "display_data"
    }
   ],
   "source": [
    "%matplotlib inline\n",
    "import matplotlib.pyplot as plt\n",
    "print('Max Average Score:', max(allScores))\n",
    "# Plot Scores over Episodes\n",
    "plt.plot(allScores)\n",
    "plt.title('Average Scores Over Time')\n",
    "plt.xlabel('Episodes')\n",
    "plt.ylabel('Scores')\n",
    "plt.show()"
   ]
  },
  {
   "cell_type": "code",
   "execution_count": 10,
   "metadata": {},
   "outputs": [
    {
     "name": "stderr",
     "output_type": "stream",
     "text": [
      "C:\\ProgramData\\Anaconda3\\lib\\site-packages\\torch\\nn\\functional.py:995: UserWarning: nn.functional.tanh is deprecated. Use torch.tanh instead.\n",
      "  warnings.warn(\"nn.functional.tanh is deprecated. Use torch.tanh instead.\")\n"
     ]
    },
    {
     "name": "stdout",
     "output_type": "stream",
     "text": [
      "Total score (averaged over agents) this episode: 39.02899912763387\n"
     ]
    }
   ],
   "source": [
    "import torch as T\n",
    "# Upload Agent\n",
    "[actor.load_state_dict(T.load('Actor.pt')) for actor in agent.Actor]\n",
    "agent.Critic.load_state_dict(T.load('Critic.pt'))\n",
    "# Reset Env\n",
    "env_info = env.reset(train_mode=False)[brain_name]     # reset the environment    \n",
    "states = env_info.vector_observations                  # get the current state (for each agent)\n",
    "scores = np.zeros(num_agents)                          # initialize the score (for each agent)\n",
    "while True:\n",
    "    actions = agent.Action(states)\n",
    "    actions = np.clip(actions, -1, 1)                  # all actions between -1 and 1\n",
    "    env_info = env.step(actions)[brain_name]           # send all actions to tne environment\n",
    "    next_states = env_info.vector_observations         # get next state (for each agent)\n",
    "    rewards = env_info.rewards                         # get reward (for each agent)\n",
    "    dones = env_info.local_done                        # see if episode finished\n",
    "    scores += env_info.rewards                         # update the score (for each agent)\n",
    "    states = next_states                               # roll over states to next time step\n",
    "    if np.all(dones):                                  # exit loop if episode finished\n",
    "        break\n",
    "print('Total score (averaged over agents) this episode: {}'.format(np.mean(scores)))"
   ]
  },
  {
   "cell_type": "code",
   "execution_count": 11,
   "metadata": {
    "collapsed": true
   },
   "outputs": [],
   "source": [
    "env.close()"
   ]
  }
 ],
 "metadata": {
  "kernelspec": {
   "display_name": "Python 3",
   "language": "python",
   "name": "python3"
  },
  "language_info": {
   "codemirror_mode": {
    "name": "ipython",
    "version": 3
   },
   "file_extension": ".py",
   "mimetype": "text/x-python",
   "name": "python",
   "nbconvert_exporter": "python",
   "pygments_lexer": "ipython3",
   "version": "3.6.2"
  }
 },
 "nbformat": 4,
 "nbformat_minor": 2
}
